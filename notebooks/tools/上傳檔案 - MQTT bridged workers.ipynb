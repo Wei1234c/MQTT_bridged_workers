{
 "cells": [
  {
   "cell_type": "markdown",
   "metadata": {},
   "source": [
    "# 上傳檔案 - MQTT bridged workers"
   ]
  },
  {
   "cell_type": "markdown",
   "metadata": {},
   "source": [
    "### 需先安裝 ampy ( Adafruit MicroPython Tool )\n",
    "#### pip install adafruit-ampy\n",
    "https://github.com/adafruit/ampy  "
   ]
  },
  {
   "cell_type": "code",
   "execution_count": 8,
   "metadata": {},
   "outputs": [],
   "source": [
    "import os, sys\n",
    "sys.path.append(os.path.join('..', '..', '..', '..', '..', ))\n",
    "\n",
    "import ampy_utils\n",
    "# with open(os.path.join('..', '..', '..', '..', '..', 'ampy_utils.py'), 'r') as f:\n",
    "#     print(f.read())"
   ]
  },
  {
   "cell_type": "markdown",
   "metadata": {},
   "source": [
    "---\n",
    "<font color='blue'>\n",
    "### 設定COM port (set current COM port), baud rate"
   ]
  },
  {
   "cell_type": "code",
   "execution_count": 13,
   "metadata": {},
   "outputs": [],
   "source": [
    "ampy_utils.baud_rate = 115200\n",
    "ampy_utils.com_port = 'COM3'\n",
    "ampy_utils.com_port = 'COM4'\n",
    "# ampy_utils.com_port = 'COM5'\n",
    "# ampy_utils.com_port = 'COM6'\n",
    "# ampy_utils.com_port = 'COM7'\n",
    "# ampy_utils.com_port = 'COM8'\n",
    "# ampy_utils.com_port = '/dev/ttyUSB0'"
   ]
  },
  {
   "cell_type": "markdown",
   "metadata": {},
   "source": [
    "### Load utility functions"
   ]
  },
  {
   "cell_type": "code",
   "execution_count": 14,
   "metadata": {},
   "outputs": [],
   "source": [
    "from ampy_utils import *"
   ]
  },
  {
   "cell_type": "markdown",
   "metadata": {},
   "source": [
    "<font color='blue'>\n",
    "### Copy files and folders to device"
   ]
  },
  {
   "cell_type": "code",
   "execution_count": 15,
   "metadata": {
    "scrolled": false
   },
   "outputs": [
    {
     "name": "stdout",
     "output_type": "stream",
     "text": [
      "\n",
      "[Formatting file system on device COM4]\n",
      "\n",
      "[Clearing folder upload\\py]\n",
      "\n",
      "[Copying all files to upload folder upload\\py]\n",
      "\n",
      "[Copying all files to device COM4]\n",
      "Deleting ['main.py', 'main.mpy']\n",
      "Copying file: asynch_result.py\n",
      "Copying file: boot.py\n",
      "Copying file: commander.py\n",
      "Copying file: config_hardware.py\n",
      "Copying file: config_identity.py\n",
      "Copying file: config_mqtt.py\n",
      "Copying file: data_transceiver.py\n",
      "Copying file: led.py\n",
      "Copying file: mqtt_client_umqtt.py\n",
      "Copying file: node.py\n",
      "Copying file: phonebook.py\n",
      "Copying file: queue_manager.py\n",
      "Copying file: simple.py\n",
      "Copying file: u_python.py\n",
      "Copying file: webrepl_cfg.py\n",
      "Copying file: worker.py\n",
      "Copying file: worker_upython.py\n",
      "Copying file: main.py\n",
      "\n",
      "[Copying all folders to device COM4]\n",
      "\n",
      "[All done!]\n"
     ]
    }
   ],
   "source": [
    "root_folders = [os.path.sep.join(['..', '..', 'codes', 'config']),\n",
    "                os.path.sep.join(['..', '..', 'codes', 'micropython']),\n",
    "                os.path.sep.join(['..', '..', 'codes', 'node'])]\n",
    "folders = []\n",
    "\n",
    "format_put_files_folders(root_folders = root_folders,\n",
    "                         folders = folders, \n",
    "                         format_first = True,\n",
    "                         clear_local_folder_first = True)"
   ]
  },
  {
   "cell_type": "code",
   "execution_count": 16,
   "metadata": {
    "scrolled": false
   },
   "outputs": [
    {
     "name": "stdout",
     "output_type": "stream",
     "text": [
      "\n",
      "[Clearing folder upload\\py]\n",
      "\n",
      "[Copying all files to upload folder upload\\py]\n",
      "\n",
      "[Copying all files to device COM4]\n",
      "Deleting ['main.py', 'main.mpy']\n",
      "Deleting main.py\n",
      "Copying file: config_mqtt.py\n",
      "Copying file: main.py\n",
      "\n",
      "[Copying all folders to device COM4]\n",
      "\n",
      "[All done!]\n"
     ]
    }
   ],
   "source": [
    "# this 'private' folder contains 'main.py' and 'config_mqtt.py' with my private Wifi password and MQTT broker address.\n",
    "# you can config your copy of 'main.py' in 'root' folder and 'config_mqtt.py' in 'node' folder, and skip this cell.\n",
    "\n",
    "root_folders = [os.path.sep.join(['..', '..', '..', 'external', 'private']),]\n",
    "folders = []\n",
    "\n",
    "format_put_files_folders(root_folders = root_folders,\n",
    "                         folders = folders, \n",
    "                         format_first = False,\n",
    "                         clear_local_folder_first = True)"
   ]
  },
  {
   "cell_type": "markdown",
   "metadata": {},
   "source": [
    "### 單一檔案上傳 (single file upload, in case needed)"
   ]
  },
  {
   "cell_type": "code",
   "execution_count": 13,
   "metadata": {},
   "outputs": [
    {
     "name": "stdout",
     "output_type": "stream",
     "text": [
      "Copying file: hardware.py\n"
     ]
    }
   ],
   "source": [
    "copy_one_file_to_device(os.path.sep.join(['..', '..', 'codes', 'micropython']), 'hardware.py')"
   ]
  },
  {
   "cell_type": "markdown",
   "metadata": {},
   "source": [
    "### 列出檔案 (list files)"
   ]
  },
  {
   "cell_type": "code",
   "execution_count": null,
   "metadata": {},
   "outputs": [],
   "source": [
    "# list_files_in_device()"
   ]
  },
  {
   "cell_type": "markdown",
   "metadata": {},
   "source": [
    "### 檢查檔案內容 (check file content)"
   ]
  },
  {
   "cell_type": "code",
   "execution_count": 13,
   "metadata": {},
   "outputs": [],
   "source": [
    "# cat_file_from_device('commander.py')"
   ]
  },
  {
   "cell_type": "markdown",
   "metadata": {},
   "source": [
    "### 連網測試 (network config and test)"
   ]
  },
  {
   "cell_type": "code",
   "execution_count": null,
   "metadata": {},
   "outputs": [],
   "source": [
    "# 連上網路\n",
    "# import network; nic=network.WLAN(network.STA_IF); nic.active(False);  # disable network\n",
    "# import network; nic=network.WLAN(network.STA_IF); nic.active(True); nic.connect('SSID','password');nic.ifconfig()\n",
    "# import network; nic=network.WLAN(network.STA_IF); nic.active(True); nic.connect('Kingnet-70M-$370', '');nic.ifconfig()\n",
    "# import network; nic=network.WLAN(network.STA_IF); nic.ifconfig()\n",
    "# import network; nic=network.WLAN(network.STA_IF);nic.ifconfig();nic.config('mac');nic.ifconfig((['mac',])"
   ]
  },
  {
   "cell_type": "code",
   "execution_count": null,
   "metadata": {},
   "outputs": [],
   "source": [
    "# Delete all files\n",
    "# import u_python;u_python.del_all_files();import os;os.listdir()"
   ]
  }
 ],
 "metadata": {
  "anaconda-cloud": {},
  "kernelspec": {
   "display_name": "Python 3",
   "language": "python",
   "name": "python3"
  },
  "language_info": {
   "codemirror_mode": {
    "name": "ipython",
    "version": 3
   },
   "file_extension": ".py",
   "mimetype": "text/x-python",
   "name": "python",
   "nbconvert_exporter": "python",
   "pygments_lexer": "ipython3",
   "version": "3.6.5"
  }
 },
 "nbformat": 4,
 "nbformat_minor": 1
}
