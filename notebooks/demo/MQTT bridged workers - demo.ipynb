{
 "cells": [
  {
   "cell_type": "markdown",
   "metadata": {},
   "source": [
    "# MQTT bridged workers - demo"
   ]
  },
  {
   "cell_type": "markdown",
   "metadata": {},
   "source": [
    "## Getting Started\n",
    "What this notebook does:  \n",
    "- Using a client on PC\n",
    "- List connected nodes\n",
    "- Send messages to remote nodes"
   ]
  },
  {
   "cell_type": "code",
   "execution_count": 1,
   "metadata": {},
   "outputs": [],
   "source": [
    "import os\n",
    "import sys\n",
    "import time\n",
    " \n",
    "sys.path.append(os.path.abspath(os.path.join('..', '..', '..', 'external', 'private')))\n",
    "sys.path.append(os.path.abspath(os.path.join('..', '..', 'codes', 'amd64')))\n",
    "sys.path.append(os.path.abspath(os.path.join('..', '..', 'codes', 'client')))\n",
    "sys.path.append(os.path.abspath(os.path.join('..', '..', 'codes', 'config')))\n",
    "sys.path.append(os.path.abspath(os.path.join('..', '..', 'codes', 'micropython')))\n",
    "sys.path.append(os.path.abspath(os.path.join('..', '..', 'codes', 'node')))\n",
    " \n",
    "import client\n",
    "from collections import OrderedDict"
   ]
  },
  {
   "cell_type": "markdown",
   "metadata": {},
   "source": [
    "### Start client"
   ]
  },
  {
   "cell_type": "code",
   "execution_count": 2,
   "metadata": {},
   "outputs": [
    {
     "name": "stdout",
     "output_type": "stream",
     "text": [
      "My name is Wei-Legion\n",
      "\n",
      "Sending 281 bytes\n",
      "Message:\n",
      "OrderedDict([('command', 'set connection name'), ('correlation_id', '2018-04-10 13:09:05.503151 1'), ('kwargs', {'name': 'Wei-Legion'}), ('message_id', '2018-04-10 13:09:05.503151 1'), ('message_type', 'command'), ('need_result', True), ('receiver', 'Hub'), ('reply_to', 'Wei-Legion'), ('sender', 'Wei-Legion')])\n",
      "\n",
      "\n",
      "[Connected: ('123.240.210.68', 1883)]\n",
      "[Listen to messages]\n",
      "Node not ready yet.\n"
     ]
    }
   ],
   "source": [
    "the_client = client.Client()\n",
    "the_client.start()\n",
    "\n",
    "while not the_client.status['Is connected']:            \n",
    "    time.sleep(1)\n",
    "    print('Node not ready yet.')"
   ]
  },
  {
   "cell_type": "markdown",
   "metadata": {},
   "source": [
    "### Prepare messages"
   ]
  },
  {
   "cell_type": "code",
   "execution_count": 3,
   "metadata": {},
   "outputs": [],
   "source": [
    "# messages _____________________________________________\n",
    "messages = OrderedDict()\n",
    "\n",
    "messages['read_GPIOs'] = {'message_type': 'command',\n",
    "                          'command': 'read GPIOs',\n",
    "                          'kwargs': {'pins': [5, 12, 13, 14, 15, 16]},\n",
    "                          'need_result': True}\n",
    "\n",
    "messages['blink_led'] = {'message_type': 'command',\n",
    "                         'command': 'blink led',\n",
    "                         'kwargs': {'times': 3, 'forever': False,\n",
    "                                    'on_seconds': 0.1, 'off_seconds': 0.1}}"
   ]
  },
  {
   "cell_type": "markdown",
   "metadata": {},
   "source": [
    "### List connected nodes"
   ]
  },
  {
   "cell_type": "code",
   "execution_count": 4,
   "metadata": {},
   "outputs": [
    {
     "name": "stdout",
     "output_type": "stream",
     "text": [
      "\n",
      "Sending 255 bytes\n",
      "Message:\n",
      "OrderedDict([('correlation_id', '2018-04-10 13:09:06.386486 10'), ('function', 'check_in'), ('kwargs', {'caller': 'Wei-Legion'}), ('message_id', '2018-04-10 13:09:06.386486 10'), ('message_type', 'function'), ('receiver', 'Hub'), ('reply_to', 'Wei-Legion'), ('sender', 'Wei-Legion')])\n",
      "\n",
      "\n",
      "Data received: 255 bytes\n",
      "Message:\n",
      "OrderedDict([('correlation_id', '2018-04-10 13:09:06.386486 10'), ('function', 'check_in'), ('kwargs', {'caller': 'Wei-Legion'}), ('message_id', '2018-04-10 13:09:06.386486 10'), ('message_type', 'function'), ('receiver', 'Hub'), ('reply_to', 'Wei-Legion'), ('sender', 'Wei-Legion')])\n",
      "\n",
      "\n",
      "Sending 172 bytes\n",
      "\n",
      "Data received: 172 bytes\n",
      "Message:\n",
      "OrderedDict([('function', 'register_contact'), ('kwargs', {'contact_id': 'Wei-Legion', 'name': 'Wei-Legion'}), ('message_type', 'function'), ('receiver', 'Wei-Legion'), ('sender', 'Wei-Legion')])\n",
      "\n",
      "\n",
      "Data received: 196 bytes\n",
      "Message:\n",
      "OrderedDict([('function', 'register_contact'), ('kwargs', {'name': 'ESP32_30aea44cbdc8', 'contact_id': 'ESP32_30aea44cbdc8'}), ('message_type', 'function'), ('receiver', 'Wei-Legion'), ('sender', 'ESP32_30aea44cbdc8')])\n",
      "\n",
      "\n",
      "[____________ Connected nodes ____________]\n",
      "\n",
      "\n",
      "Connected nodes:\n",
      "['ESP32_30aea44cbdc8', 'Wei-Legion']\n",
      "\n"
     ]
    }
   ],
   "source": [
    "the_client.node.worker.roll_call()\n",
    "time.sleep(2)\n",
    "remote_nodes = sorted(the_client.node.worker.contacts.keys())\n",
    "\n",
    "print('\\n[____________ Connected nodes ____________]\\n')\n",
    "print('\\nConnected nodes:\\n{}\\n'.format(remote_nodes))"
   ]
  },
  {
   "cell_type": "markdown",
   "metadata": {},
   "source": [
    "### Blink each node\n",
    "[YouTube video clip](https://youtu.be/I_s-no_0L24)"
   ]
  },
  {
   "cell_type": "code",
   "execution_count": 5,
   "metadata": {},
   "outputs": [],
   "source": [
    "# for remote_node in remote_nodes:\n",
    "#     the_client.request(remote_node, messages['blink_led']) "
   ]
  },
  {
   "cell_type": "code",
   "execution_count": 6,
   "metadata": {},
   "outputs": [
    {
     "name": "stdout",
     "output_type": "stream",
     "text": [
      "\n",
      "Sending 299 bytes\n",
      "Message:\n",
      "OrderedDict([('command', 'blink led'), ('correlation_id', '2018-04-10 13:09:08.441982 20'), ('kwargs', {'times': 3, 'forever': False, 'on_seconds': 0.1, 'off_seconds': 0.1}), ('message_id', '2018-04-10 13:09:08.441982 20'), ('message_type', 'command'), ('receiver', 'Hub'), ('reply_to', 'Wei-Legion'), ('sender', 'Wei-Legion')])\n",
      "\n"
     ]
    },
    {
     "data": {
      "text/plain": [
       "({'sender': 'Wei-Legion',\n",
       "  'receiver': 'Hub',\n",
       "  'message_type': 'command',\n",
       "  'message_id': '2018-04-10 13:09:08.441982 20',\n",
       "  'command': 'blink led',\n",
       "  'kwargs': {'times': 3,\n",
       "   'forever': False,\n",
       "   'on_seconds': 0.1,\n",
       "   'off_seconds': 0.1},\n",
       "  'reply_to': 'Wei-Legion',\n",
       "  'correlation_id': '2018-04-10 13:09:08.441982 20'},\n",
       " None)"
      ]
     },
     "execution_count": 6,
     "metadata": {},
     "output_type": "execute_result"
    }
   ],
   "source": [
    "the_client.request('Hub', messages['blink_led']) "
   ]
  },
  {
   "cell_type": "markdown",
   "metadata": {},
   "source": [
    "### Read one GPIO pin"
   ]
  },
  {
   "cell_type": "code",
   "execution_count": 7,
   "metadata": {},
   "outputs": [
    {
     "name": "stdout",
     "output_type": "stream",
     "text": [
      "\n",
      "Sending 300 bytes\n",
      "Message:\n",
      "OrderedDict([('command', 'read GPIOs'), ('correlation_id', '2018-04-10 13:09:08.488604 23'), ('kwargs', {'pins': [5, 12, 13, 14, 15, 16]}), ('message_id', '2018-04-10 13:09:08.488604 23'), ('message_type', 'command'), ('need_result', True), ('receiver', 'ESP32_30aea44cbdc8'), ('reply_to', 'Wei-Legion'), ('sender', 'Wei-Legion')])\n",
      "\n",
      "\n",
      "Data received: 299 bytes\n",
      "Message:\n",
      "OrderedDict([('command', 'blink led'), ('correlation_id', '2018-04-10 13:09:08.441982 20'), ('kwargs', {'times': 3, 'forever': False, 'on_seconds': 0.1, 'off_seconds': 0.1}), ('message_id', '2018-04-10 13:09:08.441982 20'), ('message_type', 'command'), ('receiver', 'Hub'), ('reply_to', 'Wei-Legion'), ('sender', 'Wei-Legion')])\n",
      "\n",
      "\n",
      "Data received: 259 bytes\n",
      "Message:\n",
      "OrderedDict([('correlation_id', '2018-04-10 13:09:08.488604 23'), ('message_id', '1760253'), ('message_type', 'result'), ('receiver', 'Wei-Legion'), ('reply_to', 'ESP32_30aea44cbdc8'), ('result', [[5, 1], [12, 0], [13, 0], [14, 1], [15, 1], [16, 0]]), ('sender', 'ESP32_30aea44cbdc8')])\n",
      "\n",
      "\n",
      "GPIO status for ESP32_30aea44cbdc8: [[5, 1], [12, 0], [13, 0], [14, 1], [15, 1], [16, 0]]\n",
      "\n",
      "\n",
      "Sending 294 bytes\n",
      "Message:\n",
      "OrderedDict([('command', 'read GPIOs'), ('correlation_id', '2018-04-10 13:09:09.553646 136'), ('kwargs', {'pins': [5, 12, 13, 14, 15, 16]}), ('message_id', '2018-04-10 13:09:09.553646 136'), ('message_type', 'command'), ('need_result', True), ('receiver', 'Wei-Legion'), ('reply_to', 'Wei-Legion'), ('sender', 'Wei-Legion')])\n",
      "\n",
      "\n",
      "Data received: 294 bytes\n",
      "Message:\n",
      "OrderedDict([('command', 'read GPIOs'), ('correlation_id', '2018-04-10 13:09:09.553646 136'), ('kwargs', {'pins': [5, 12, 13, 14, 15, 16]}), ('message_id', '2018-04-10 13:09:09.553646 136'), ('message_type', 'command'), ('need_result', True), ('receiver', 'Wei-Legion'), ('reply_to', 'Wei-Legion'), ('sender', 'Wei-Legion')])\n",
      "\n",
      "\n",
      "Processed result:\n",
      "OrderedDict([('correlation_id', '2018-04-10 13:09:09.553646 136'), ('message_id', '2018-04-10 13:09:09.754141 157'), ('message_type', 'result'), ('receiver', 'Wei-Legion'), ('reply_to', 'Wei-Legion'), ('result', 'Not applicable.'), ('sender', 'Wei-Legion')])\n",
      "\n",
      "\n",
      "Sending 231 bytes\n",
      "Message:\n",
      "OrderedDict([('correlation_id', '2018-04-10 13:09:09.553646 136'), ('message_id', '2018-04-10 13:09:09.754141 157'), ('message_type', 'result'), ('receiver', 'Wei-Legion'), ('reply_to', 'Wei-Legion'), ('result', 'Not applicable.'), ('sender', 'Wei-Legion')])\n",
      "\n",
      "\n",
      "Data received: 231 bytes\n",
      "Message:\n",
      "OrderedDict([('correlation_id', '2018-04-10 13:09:09.553646 136'), ('message_id', '2018-04-10 13:09:09.754141 157'), ('message_type', 'result'), ('receiver', 'Wei-Legion'), ('reply_to', 'Wei-Legion'), ('result', 'Not applicable.'), ('sender', 'Wei-Legion')])\n",
      "\n",
      "\n",
      "GPIO status for Wei-Legion: Not applicable.\n",
      "\n"
     ]
    }
   ],
   "source": [
    "for remote_node in remote_nodes:\n",
    "    _, result = the_client.request(remote_node, messages['read_GPIOs']) \n",
    "    print('\\nGPIO status for {}: {}\\n'.format(remote_node, result.get()))"
   ]
  },
  {
   "cell_type": "markdown",
   "metadata": {},
   "source": [
    "### Send out messages and get asynchonous results"
   ]
  },
  {
   "cell_type": "code",
   "execution_count": 8,
   "metadata": {},
   "outputs": [
    {
     "name": "stdout",
     "output_type": "stream",
     "text": [
      "\n",
      "[______________ Sending messages ______________]\n",
      "\n",
      "\n",
      "Sending 302 bytes\n",
      "Message:\n",
      "OrderedDict([('command', 'read GPIOs'), ('correlation_id', '2018-04-10 13:09:10.099206 184'), ('kwargs', {'pins': [5, 12, 13, 14, 15, 16]}), ('message_id', '2018-04-10 13:09:10.099206 184'), ('message_type', 'command'), ('need_result', True), ('receiver', 'ESP32_30aea44cbdc8'), ('reply_to', 'Wei-Legion'), ('sender', 'Wei-Legion')])\n",
      "\n",
      "\n",
      "Sending 316 bytes\n",
      "Message:\n",
      "OrderedDict([('command', 'blink led'), ('correlation_id', '2018-04-10 13:09:10.232916 187'), ('kwargs', {'times': 3, 'forever': False, 'on_seconds': 0.1, 'off_seconds': 0.1}), ('message_id', '2018-04-10 13:09:10.232916 187'), ('message_type', 'command'), ('receiver', 'ESP32_30aea44cbdc8'), ('reply_to', 'Wei-Legion'), ('sender', 'Wei-Legion')])\n",
      "\n"
     ]
    }
   ],
   "source": [
    "print('\\n[______________ Sending messages ______________]\\n')\n",
    "\n",
    "results = []\n",
    "\n",
    "# send out the messages\n",
    "for message in messages.values():\n",
    "    for remote_node in remote_nodes:\n",
    "        if remote_node != the_client.node.worker.name:\n",
    "            time.sleep(0.1)  # PyCharm needs this delay.\n",
    "            formatted_message, asynch_result = the_client.request(remote_node, message)\n",
    "            results.append((formatted_message, asynch_result))"
   ]
  },
  {
   "cell_type": "markdown",
   "metadata": {},
   "source": [
    "### Actually get the results"
   ]
  },
  {
   "cell_type": "code",
   "execution_count": 9,
   "metadata": {},
   "outputs": [
    {
     "name": "stdout",
     "output_type": "stream",
     "text": [
      "\n",
      "[_________ Wait few seconds for reply _________]\n",
      "\n",
      "\n",
      "Data received: 260 bytes\n",
      "Message:\n",
      "OrderedDict([('correlation_id', '2018-04-10 13:09:10.099206 184'), ('message_id', '1761280'), ('message_type', 'result'), ('receiver', 'Wei-Legion'), ('reply_to', 'ESP32_30aea44cbdc8'), ('result', [[5, 1], [12, 0], [13, 0], [14, 1], [15, 1], [16, 0]]), ('sender', 'ESP32_30aea44cbdc8')])\n",
      "\n",
      "\n",
      "[Result for request]:\n",
      "___Request___:\n",
      "{'sender': 'Wei-Legion', 'receiver': 'ESP32_30aea44cbdc8', 'message_type': 'command', 'message_id': '2018-04-10 13:09:10.099206 184', 'command': 'read GPIOs', 'kwargs': {'pins': [5, 12, 13, 14, 15, 16]}, 'need_result': True, 'reply_to': 'Wei-Legion', 'correlation_id': '2018-04-10 13:09:10.099206 184'}\n",
      "___Result____:\n",
      "[[5, 1], [12, 0], [13, 0], [14, 1], [15, 1], [16, 0]]\n",
      "\n"
     ]
    }
   ],
   "source": [
    "# collect and print results        \n",
    "print('\\n[_________ Wait few seconds for reply _________]\\n')\n",
    "for (message, result) in results:\n",
    "    try:\n",
    "        if message.get('need_result'):\n",
    "            print('\\n[Result for request]:\\n___Request___:\\n{0}\\n___Result____:\\n{1}\\n'.format(message,\n",
    "                                                                                               result.get() if result else None))\n",
    "    except Exception as e:\n",
    "        print('\\n[{}]\\nMessage:\\n{}'.format(e, message))\n",
    "        \n",
    "# Wait a while\n",
    "time.sleep(3)        "
   ]
  },
  {
   "cell_type": "markdown",
   "metadata": {},
   "source": [
    "### Stop the demo"
   ]
  },
  {
   "cell_type": "code",
   "execution_count": 10,
   "metadata": {},
   "outputs": [
    {
     "name": "stdout",
     "output_type": "stream",
     "text": [
      "[Closed: ('123.240.210.68', 1883)]\n",
      "\n",
      "[________________ Demo stopped ________________]\n",
      "\n"
     ]
    }
   ],
   "source": [
    "# Stopping\n",
    "the_client.stop()\n",
    "the_client = None\n",
    "print('\\n[________________ Demo stopped ________________]\\n')"
   ]
  }
 ],
 "metadata": {
  "anaconda-cloud": {},
  "kernelspec": {
   "display_name": "Python 3",
   "language": "python",
   "name": "python3"
  },
  "language_info": {
   "codemirror_mode": {
    "name": "ipython",
    "version": 3
   },
   "file_extension": ".py",
   "mimetype": "text/x-python",
   "name": "python",
   "nbconvert_exporter": "python",
   "pygments_lexer": "ipython3",
   "version": "3.6.5"
  }
 },
 "nbformat": 4,
 "nbformat_minor": 1
}
